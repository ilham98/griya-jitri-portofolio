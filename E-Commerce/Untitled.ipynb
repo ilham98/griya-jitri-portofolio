{
 "cells": [
  {
   "cell_type": "code",
   "execution_count": null,
   "id": "677826c2-3973-41c7-b811-a72d941ba9ad",
   "metadata": {},
   "outputs": [],
   "source": []
  }
 ],
 "metadata": {
  "kernelspec": {
   "display_name": "",
   "name": ""
  },
  "language_info": {
   "name": ""
  }
 },
 "nbformat": 4,
 "nbformat_minor": 5
}
