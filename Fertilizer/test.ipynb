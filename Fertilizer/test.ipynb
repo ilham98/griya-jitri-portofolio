{
 "cells": [
  {
   "cell_type": "code",
   "execution_count": null,
   "id": "216001ab-da8a-49a4-a92a-1912e31d9be5",
   "metadata": {},
   "outputs": [],
   "source": []
  }
 ],
 "metadata": {
  "kernelspec": {
   "display_name": "",
   "name": ""
  },
  "language_info": {
   "name": ""
  }
 },
 "nbformat": 4,
 "nbformat_minor": 5
}
